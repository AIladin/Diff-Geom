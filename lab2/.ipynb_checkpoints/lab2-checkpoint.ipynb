{
 "cells": [
  {
   "cell_type": "code",
   "execution_count": 1,
   "metadata": {
    "ExecuteTime": {
     "end_time": "2020-06-05T13:45:08.903014Z",
     "start_time": "2020-06-05T13:45:08.866854Z"
    }
   },
   "outputs": [],
   "source": [
    "%load_ext autoreload\n",
    "%autoreload 1"
   ]
  },
  {
   "cell_type": "code",
   "execution_count": 2,
   "metadata": {
    "ExecuteTime": {
     "end_time": "2020-06-05T13:45:15.080470Z",
     "start_time": "2020-06-05T13:45:15.078164Z"
    }
   },
   "outputs": [],
   "source": [
    "import sys\n",
    "sys.path.append('..')"
   ]
  },
  {
   "cell_type": "code",
   "execution_count": 32,
   "metadata": {
    "ExecuteTime": {
     "end_time": "2020-06-05T14:18:10.126948Z",
     "start_time": "2020-06-05T14:18:10.059302Z"
    }
   },
   "outputs": [],
   "source": [
    "%aimport lab2\n",
    "%aimport utils"
   ]
  },
  {
   "cell_type": "markdown",
   "metadata": {},
   "source": [
    "# Теорема про неявну функцію"
   ]
  },
  {
   "cell_type": "code",
   "execution_count": 29,
   "metadata": {
    "ExecuteTime": {
     "end_time": "2020-06-05T14:01:01.273067Z",
     "start_time": "2020-06-05T14:01:01.246147Z"
    }
   },
   "outputs": [
    {
     "name": "stdout",
     "output_type": "stream",
     "text": [
      "F('x', 'y', 'z') = x**2 - y**2 + z**2 - 1\n",
      "G('x', 'y', 'z') = 2*x - y**2 - z\n",
      "\n"
     ]
    }
   ],
   "source": [
    "solver = lab2.ImplicitFunctionSolver.from_string(\"x**2 + z**2 -y**2 - 1 = 0\",\n",
    "                                                 \"- y**2 + 2*x - z  = 0\",\n",
    "                                                 (1, 1, 1))"
   ]
  },
  {
   "cell_type": "code",
   "execution_count": 30,
   "metadata": {
    "ExecuteTime": {
     "end_time": "2020-06-05T14:01:01.937643Z",
     "start_time": "2020-06-05T14:01:01.858260Z"
    }
   },
   "outputs": [
    {
     "name": "stdout",
     "output_type": "stream",
     "text": [
      "Finding dependent variables.\n",
      "⎡2⋅x  -2⋅y⎤\n",
      "⎢         ⎥\n",
      "⎣ 2   -2⋅y⎦\n",
      "det = -4*x*y + 4*y = 0\n",
      "\n",
      "⎡2⋅x  2⋅z⎤\n",
      "⎢        ⎥\n",
      "⎣ 2   -1 ⎦\n",
      "det = -2*x - 4*z = -6\n",
      "Accepted y.\n",
      "\n",
      "Calculating parametrisation diff.\n",
      "r = [f(y)  y  g(y)]\n",
      "\n",
      "-y**2 + f(y)**2 + g(y)**2 - 1 = 0\n",
      "-y**2 + 2*f(y) - g(y) = 0\n",
      "\n",
      "Step  1\n",
      "r' =[f'(y)  1  g'(y)]\n",
      "-2*y + 2*f(y)*Derivative(f(y), y) + 2*g(y)*Derivative(g(y), y) = 0\n",
      "-2*y + 2*Derivative(f(y), y) - Derivative(g(y), y) = 0\n",
      "\n",
      "Solving system.\n",
      "2*f'(1) + 2*g'(1) - 2 = 0\n",
      "2*f'(1) - g'(1) - 2 = 0\n",
      "\n",
      "Solution  {f'(y): 1, g'(y): 0}\n",
      "\n",
      "Step  2\n",
      "r'' =[f''(y)  0  g''(y)]\n",
      "2*f(y)*Derivative(f(y), (y, 2)) + 2*g(y)*Derivative(g(y), (y, 2)) + 2*Derivative(f(y), y)**2 + 2*Derivative(g(y), y)**2 - 2 = 0\n",
      "2*Derivative(f(y), (y, 2)) - Derivative(g(y), (y, 2)) - 2 = 0\n",
      "\n",
      "Solving system.\n",
      "2*f''(1) + 2*g''(1) = 0\n",
      "2*f''(1) - g''(1) - 2 = 0\n",
      "\n",
      "Solution  {f''(y): 2/3, g''(y): -2/3}\n",
      "\n",
      "Step  3\n",
      "r''' =[f'''(y)  0  g'''(y)]\n",
      "2*f(y)*Derivative(f(y), (y, 3)) + 2*g(y)*Derivative(g(y), (y, 3)) + 6*Derivative(f(y), y)*Derivative(f(y), (y, 2)) + 6*Derivative(g(y), y)*Derivative(g(y), (y, 2)) = 0\n",
      "2*Derivative(f(y), (y, 3)) - Derivative(g(y), (y, 3)) = 0\n",
      "\n",
      "Solving system.\n",
      "2*f'''(1) + 2*g'''(1) + 4 = 0\n",
      "2*f'''(1) - g'''(1) = 0\n",
      "\n",
      "Solution  {f'''(y): -2/3, g'''(y): -4/3}\n",
      "\n"
     ]
    }
   ],
   "source": [
    "p, d1, d2, d3 = solver.solve(3)"
   ]
  },
  {
   "cell_type": "code",
   "execution_count": 31,
   "metadata": {
    "ExecuteTime": {
     "end_time": "2020-06-05T14:01:03.902430Z",
     "start_time": "2020-06-05T14:01:03.664401Z"
    },
    "scrolled": true
   },
   "outputs": [
    {
     "data": {
      "image/png": "[encoded data removed]",
      "text/latex": [
       "$\\displaystyle \\left( \\left[\\begin{matrix}1 & 1 & 1\\end{matrix}\\right], \\  \\left[\\begin{matrix}1 & 1 & 0\\end{matrix}\\right], \\  \\left[\\begin{matrix}\\frac{2}{3} & 0 & - \\frac{2}{3}\\end{matrix}\\right], \\  \\left[\\begin{matrix}- \\frac{2}{3} & 0 & - \\frac{4}{3}\\end{matrix}\\right]\\right)$"
      ],
      "text/plain": [
       "([1  1  1], [1  1  0], [2/3  0  -2/3], [-2/3  0  -4/3])"
      ]
     },
     "execution_count": 31,
     "metadata": {},
     "output_type": "execute_result"
    }
   ],
   "source": [
    "p, d1, d2, d3"
   ]
  },
  {
   "cell_type": "markdown",
   "metadata": {},
   "source": [
    "# Тригранник Френе"
   ]
  },
  {
   "cell_type": "code",
   "execution_count": 62,
   "metadata": {
    "ExecuteTime": {
     "end_time": "2020-06-05T14:38:03.854475Z",
     "start_time": "2020-06-05T14:38:03.851602Z"
    }
   },
   "outputs": [],
   "source": [
    "import numpy as np\n",
    "from IPython.display import Math"
   ]
  },
  {
   "cell_type": "code",
   "execution_count": 57,
   "metadata": {
    "ExecuteTime": {
     "end_time": "2020-06-05T14:36:02.651440Z",
     "start_time": "2020-06-05T14:36:02.645033Z"
    }
   },
   "outputs": [],
   "source": [
    "eq_builder = utils.EqBuilder(np.array(list(p)).astype('float64'),\n",
    "                             np.array(list(d1)).astype('float64'),\n",
    "                             np.array(list(d2)).astype('float64'),\n",
    "                             np.array(list(d3)).astype('float64'))"
   ]
  },
  {
   "cell_type": "markdown",
   "metadata": {},
   "source": [
    "## Орти"
   ]
  },
  {
   "cell_type": "markdown",
   "metadata": {},
   "source": [
    "### Дотична"
   ]
  },
  {
   "cell_type": "code",
   "execution_count": 58,
   "metadata": {
    "ExecuteTime": {
     "end_time": "2020-06-05T14:36:09.141282Z",
     "start_time": "2020-06-05T14:36:09.136507Z"
    }
   },
   "outputs": [
    {
     "data": {
      "text/plain": [
       "array([0.70710679, 0.70710679, 0.        ])"
      ]
     },
     "execution_count": 58,
     "metadata": {},
     "output_type": "execute_result"
    }
   ],
   "source": [
    "utils.tangent(eq_builder.d1)"
   ]
  },
  {
   "cell_type": "markdown",
   "metadata": {},
   "source": [
    "### Бінормаль"
   ]
  },
  {
   "cell_type": "code",
   "execution_count": 59,
   "metadata": {
    "ExecuteTime": {
     "end_time": "2020-06-05T14:37:09.201763Z",
     "start_time": "2020-06-05T14:37:09.168591Z"
    }
   },
   "outputs": [
    {
     "data": {
      "text/plain": [
       "array([-0.57735027,  0.57735027, -0.57735027])"
      ]
     },
     "execution_count": 59,
     "metadata": {},
     "output_type": "execute_result"
    }
   ],
   "source": [
    "utils.binormal(eq_builder.d1, eq_builder.d2)"
   ]
  },
  {
   "cell_type": "markdown",
   "metadata": {},
   "source": [
    "### Головна нормаль"
   ]
  },
  {
   "cell_type": "code",
   "execution_count": 60,
   "metadata": {
    "ExecuteTime": {
     "end_time": "2020-06-05T14:37:26.714976Z",
     "start_time": "2020-06-05T14:37:26.710236Z"
    }
   },
   "outputs": [
    {
     "data": {
      "text/plain": [
       "array([ 0.4082483 , -0.4082483 , -0.81649659])"
      ]
     },
     "execution_count": 60,
     "metadata": {},
     "output_type": "execute_result"
    }
   ],
   "source": [
    "utils.normal(eq_builder.d1, eq_builder.d2)"
   ]
  },
  {
   "cell_type": "markdown",
   "metadata": {},
   "source": [
    "## Рівнняння ребер тригранника Френе"
   ]
  },
  {
   "cell_type": "markdown",
   "metadata": {},
   "source": [
    "### Дотична"
   ]
  },
  {
   "cell_type": "code",
   "execution_count": 63,
   "metadata": {
    "ExecuteTime": {
     "end_time": "2020-06-05T14:38:07.714970Z",
     "start_time": "2020-06-05T14:38:07.710658Z"
    }
   },
   "outputs": [
    {
     "data": {
      "text/latex": [
       "$\\displaystyle \\frac{x - 1.0 }{0.707}=\\frac{y - 1.0 }{0.707}=\\frac{y - 1.0 }{0.0}$"
      ],
      "text/plain": [
       "<IPython.core.display.Math object>"
      ]
     },
     "execution_count": 63,
     "metadata": {},
     "output_type": "execute_result"
    }
   ],
   "source": [
    "Math(eq_builder.tangent_eq())"
   ]
  },
  {
   "cell_type": "markdown",
   "metadata": {},
   "source": [
    "### Бінормаль"
   ]
  },
  {
   "cell_type": "code",
   "execution_count": 64,
   "metadata": {
    "ExecuteTime": {
     "end_time": "2020-06-05T14:38:19.674354Z",
     "start_time": "2020-06-05T14:38:19.670876Z"
    }
   },
   "outputs": [
    {
     "data": {
      "text/latex": [
       "$\\displaystyle \\frac{x - 1.0 }{-0.57}=\\frac{y - 1.0 }{0.577}=\\frac{y - 1.0 }{-0.57}$"
      ],
      "text/plain": [
       "<IPython.core.display.Math object>"
      ]
     },
     "execution_count": 64,
     "metadata": {},
     "output_type": "execute_result"
    }
   ],
   "source": [
    "Math(eq_builder.binormal_eq())"
   ]
  },
  {
   "cell_type": "markdown",
   "metadata": {},
   "source": [
    "### Головна нормаль"
   ]
  },
  {
   "cell_type": "code",
   "execution_count": 65,
   "metadata": {
    "ExecuteTime": {
     "end_time": "2020-06-05T14:38:29.720745Z",
     "start_time": "2020-06-05T14:38:29.716537Z"
    }
   },
   "outputs": [
    {
     "data": {
      "text/latex": [
       "$\\displaystyle \\frac{x - 1.0 }{0.408}=\\frac{y - 1.0 }{-0.40}=\\frac{y - 1.0 }{-0.81}$"
      ],
      "text/plain": [
       "<IPython.core.display.Math object>"
      ]
     },
     "execution_count": 65,
     "metadata": {},
     "output_type": "execute_result"
    }
   ],
   "source": [
    "Math(eq_builder.normal_eq())"
   ]
  },
  {
   "cell_type": "markdown",
   "metadata": {},
   "source": [
    "## Рівняння граней тригранника Френе"
   ]
  },
  {
   "cell_type": "markdown",
   "metadata": {},
   "source": [
    "### Нормальна площина"
   ]
  },
  {
   "cell_type": "code",
   "execution_count": 66,
   "metadata": {
    "ExecuteTime": {
     "end_time": "2020-06-05T14:38:35.793123Z",
     "start_time": "2020-06-05T14:38:35.751523Z"
    }
   },
   "outputs": [
    {
     "name": "stdout",
     "output_type": "stream",
     "text": [
      "0.707*x + 0.707*y - 1.41 = 0\n"
     ]
    }
   ],
   "source": [
    "print(eq_builder.normal_plane())"
   ]
  },
  {
   "cell_type": "markdown",
   "metadata": {},
   "source": [
    "### Стична площина"
   ]
  },
  {
   "cell_type": "code",
   "execution_count": 67,
   "metadata": {
    "ExecuteTime": {
     "end_time": "2020-06-05T14:38:41.860549Z",
     "start_time": "2020-06-05T14:38:41.807964Z"
    }
   },
   "outputs": [
    {
     "name": "stdout",
     "output_type": "stream",
     "text": [
      "-0.577*x + 0.577*y - 0.577*z + 0.577 = 0\n"
     ]
    }
   ],
   "source": [
    "print(eq_builder.osculating_plane())"
   ]
  },
  {
   "cell_type": "markdown",
   "metadata": {},
   "source": [
    "### Спрямна площина"
   ]
  },
  {
   "cell_type": "code",
   "execution_count": 68,
   "metadata": {
    "ExecuteTime": {
     "end_time": "2020-06-05T14:38:45.066694Z",
     "start_time": "2020-06-05T14:38:45.004577Z"
    }
   },
   "outputs": [
    {
     "name": "stdout",
     "output_type": "stream",
     "text": [
      "0.408*x - 0.408*y - 0.817*z + 0.817 = 0\n"
     ]
    }
   ],
   "source": [
    "print(eq_builder.rectifying_plane())"
   ]
  },
  {
   "cell_type": "markdown",
   "metadata": {},
   "source": [
    "# Кривина і скрут"
   ]
  },
  {
   "cell_type": "code",
   "execution_count": 74,
   "metadata": {
    "ExecuteTime": {
     "end_time": "2020-06-05T14:40:39.488423Z",
     "start_time": "2020-06-05T14:40:39.276879Z"
    }
   },
   "outputs": [
    {
     "data": {
      "image/png": "[encoded data removed]",
      "text/latex": [
       "$\\displaystyle 0.4082482904638629$"
      ],
      "text/plain": [
       "0.4082482904638629"
      ]
     },
     "execution_count": 74,
     "metadata": {},
     "output_type": "execute_result"
    }
   ],
   "source": [
    "utils.curvature(eq_builder.d1, eq_builder.d2)"
   ]
  },
  {
   "cell_type": "code",
   "execution_count": 75,
   "metadata": {
    "ExecuteTime": {
     "end_time": "2020-06-05T14:40:39.991402Z",
     "start_time": "2020-06-05T14:40:39.678234Z"
    }
   },
   "outputs": [
    {
     "data": {
      "image/png": "[encoded data removed]",
      "text/latex": [
       "$\\displaystyle 1.0$"
      ],
      "text/plain": [
       "1.0"
      ]
     },
     "execution_count": 75,
     "metadata": {},
     "output_type": "execute_result"
    }
   ],
   "source": [
    "utils.torsion(eq_builder.d1, eq_builder.d2, eq_builder.d3)"
   ]
  },
  {
   "cell_type": "markdown",
   "metadata": {},
   "source": [
    "# Стичне коло"
   ]
  },
  {
   "cell_type": "markdown",
   "metadata": {},
   "source": [
    "### Центр"
   ]
  },
  {
   "cell_type": "code",
   "execution_count": 79,
   "metadata": {
    "ExecuteTime": {
     "end_time": "2020-06-05T14:41:12.436547Z",
     "start_time": "2020-06-05T14:41:12.432238Z"
    }
   },
   "outputs": [],
   "source": [
    "center, radius = utils.osculating_circle(eq_builder.p,\n",
    "                                         eq_builder.d1,\n",
    "                                         eq_builder.d2)"
   ]
  },
  {
   "cell_type": "code",
   "execution_count": 80,
   "metadata": {
    "ExecuteTime": {
     "end_time": "2020-06-05T14:41:13.490744Z",
     "start_time": "2020-06-05T14:41:13.487603Z"
    }
   },
   "outputs": [
    {
     "data": {
      "text/plain": [
       "array([ 2.00000002e+00, -1.71142716e-08, -1.00000003e+00])"
      ]
     },
     "execution_count": 80,
     "metadata": {},
     "output_type": "execute_result"
    }
   ],
   "source": [
    "center"
   ]
  },
  {
   "cell_type": "markdown",
   "metadata": {},
   "source": [
    "### Радіус"
   ]
  },
  {
   "cell_type": "code",
   "execution_count": 81,
   "metadata": {
    "ExecuteTime": {
     "end_time": "2020-06-05T14:41:15.017059Z",
     "start_time": "2020-06-05T14:41:14.791264Z"
    }
   },
   "outputs": [
    {
     "data": {
      "image/png": "[encoded data removed]",
      "text/latex": [
       "$\\displaystyle 2.4494897427831788$"
      ],
      "text/plain": [
       "2.4494897427831788"
      ]
     },
     "execution_count": 81,
     "metadata": {},
     "output_type": "execute_result"
    }
   ],
   "source": [
    "radius"
   ]
  },
  {
   "cell_type": "code",
   "execution_count": 85,
   "metadata": {
    "ExecuteTime": {
     "end_time": "2020-06-05T14:55:26.586437Z",
     "start_time": "2020-06-05T14:55:26.476009Z"
    }
   },
   "outputs": [
    {
     "name": "stdout",
     "output_type": "stream",
     "text": [
      "(x - 2.000)**2 + (y - -1.71)**2 + (z - -1.00)**2 = 2.4494897427831788\n",
      "-0.577*x + 0.577*y - 0.577*z + 0.577 = 0\n"
     ]
    }
   ],
   "source": [
    "print(eq_builder.osculating_circle())"
   ]
  }
 ],
 "metadata": {
  "kernelspec": {
   "display_name": "Python 3",
   "language": "python",
   "name": "python3"
  },
  "language_info": {
   "codemirror_mode": {
    "name": "ipython",
    "version": 3
   },
   "file_extension": ".py",
   "mimetype": "text/x-python",
   "name": "python",
   "nbconvert_exporter": "python",
   "pygments_lexer": "ipython3",
   "version": "3.7.4"
  }
 },
 "nbformat": 4,
 "nbformat_minor": 4
}
