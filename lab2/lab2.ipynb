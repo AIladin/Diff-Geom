{
 "cells": [
  {
   "cell_type": "code",
   "execution_count": 1,
   "metadata": {
    "ExecuteTime": {
     "end_time": "2020-06-06T11:55:11.190816Z",
     "start_time": "2020-06-06T11:55:11.178309Z"
    }
   },
   "outputs": [],
   "source": [
    "%load_ext autoreload\n",
    "%autoreload 1"
   ]
  },
  {
   "cell_type": "code",
   "execution_count": 2,
   "metadata": {
    "ExecuteTime": {
     "end_time": "2020-06-06T11:55:11.418818Z",
     "start_time": "2020-06-06T11:55:11.192768Z"
    }
   },
   "outputs": [],
   "source": [
    "import sys\n",
    "sys.path.append('..')"
   ]
  },
  {
   "cell_type": "code",
   "execution_count": 3,
   "metadata": {
    "ExecuteTime": {
     "end_time": "2020-06-06T11:55:12.499462Z",
     "start_time": "2020-06-06T11:55:11.420751Z"
    }
   },
   "outputs": [],
   "source": [
    "%aimport lab2\n",
    "%aimport utils"
   ]
  },
  {
   "cell_type": "markdown",
   "metadata": {},
   "source": [
    "# Теорема про неявну функцію"
   ]
  },
  {
   "cell_type": "code",
   "execution_count": 24,
   "metadata": {
    "ExecuteTime": {
     "end_time": "2020-06-06T12:40:37.391708Z",
     "start_time": "2020-06-06T12:40:37.271691Z"
    }
   },
   "outputs": [
    {
     "name": "stdout",
     "output_type": "stream",
     "text": [
      "F('x', 'y', 'z') = x - y - sin(y) + sinh(x)\n",
      "G('x', 'y', 'z') = -x + z + exp(z) - log(x + 1) - 1\n",
      "\n"
     ]
    }
   ],
   "source": [
    "solver = lab2.ImplicitFunctionSolver.from_string(\"x + sinh(x) - sin(y) - y = 0\",\n",
    "                                                 \"z + exp(z) - x -ln(1+x) - 1 = 0\",\n",
    "                                                 (0, 0, 0))"
   ]
  },
  {
   "cell_type": "code",
   "execution_count": 25,
   "metadata": {
    "ExecuteTime": {
     "end_time": "2020-06-06T12:40:40.980516Z",
     "start_time": "2020-06-06T12:40:40.708673Z"
    }
   },
   "outputs": [
    {
     "name": "stdout",
     "output_type": "stream",
     "text": [
      "Finding dependent variables.\n",
      "⎡cosh(x) + 1  -cos(y) - 1⎤\n",
      "⎢                        ⎥\n",
      "⎢       1                ⎥\n",
      "⎢-1 - ─────        0     ⎥\n",
      "⎣     x + 1              ⎦\n",
      "det = -(-1 - 1/(x + 1))*(-cos(y) - 1) = -4\n",
      "Accepted z.\n",
      "\n",
      "Calculating parametrisation diff.\n",
      "r = [f(z)  g(z)  z]\n",
      "\n",
      "f(z) - g(z) - sin(g(z)) + sinh(f(z)) = 0\n",
      "z - f(z) + exp(z) - log(f(z) + 1) - 1 = 0\n",
      "\n",
      "Step  1\n",
      "r' =[f'(z)  g'(z)  1]\n",
      "-cos(g(z))*Derivative(g(z), z) + cosh(f(z))*Derivative(f(z), z) + Derivative(f(z), z) - Derivative(g(z), z) = 0\n",
      "exp(z) - Derivative(f(z), z) + 1 - Derivative(f(z), z)/(f(z) + 1) = 0\n",
      "\n",
      "Solving system.\n",
      "2*f'(0) - 2*g'(0) = 0\n",
      "2 - 2*f'(0) = 0\n",
      "\n",
      "Solution  {f'(z): 1, g'(z): 1}\n",
      "\n",
      "Step  2\n",
      "r'' =[f''(z)  g''(z)  0]\n",
      "sin(g(z))*Derivative(g(z), z)**2 - cos(g(z))*Derivative(g(z), (z, 2)) + sinh(f(z))*Derivative(f(z), z)**2 + cosh(f(z))*Derivative(f(z), (z, 2)) + Derivative(f(z), (z, 2)) - Derivative(g(z), (z, 2)) = 0\n",
      "exp(z) - Derivative(f(z), (z, 2)) - Derivative(f(z), (z, 2))/(f(z) + 1) + Derivative(f(z), z)**2/(f(z) + 1)**2 = 0\n",
      "\n",
      "Solving system.\n",
      "2*f''(0) - 2*g''(0) = 0\n",
      "2 - 2*f''(0) = 0\n",
      "\n",
      "Solution  {f''(z): 1, g''(z): 1}\n",
      "\n",
      "Step  3\n",
      "r''' =[f'''(z)  g'''(z)  0]\n",
      "3*sin(g(z))*Derivative(g(z), z)*Derivative(g(z), (z, 2)) + cos(g(z))*Derivative(g(z), z)**3 - cos(g(z))*Derivative(g(z), (z, 3)) + 3*sinh(f(z))*Derivative(f(z), z)*Derivative(f(z), (z, 2)) + cosh(f(z))*Derivative(f(z), z)**3 + cosh(f(z))*Derivative(f(z), (z, 3)) + Derivative(f(z), (z, 3)) - Derivative(g(z), (z, 3)) = 0\n",
      "exp(z) - Derivative(f(z), (z, 3)) - Derivative(f(z), (z, 3))/(f(z) + 1) + 3*Derivative(f(z), z)*Derivative(f(z), (z, 2))/(f(z) + 1)**2 - 2*Derivative(f(z), z)**3/(f(z) + 1)**3 = 0\n",
      "\n",
      "Solving system.\n",
      "2*f'''(0) - 2*g'''(0) + 2 = 0\n",
      "2 - 2*f'''(0) = 0\n",
      "\n",
      "Solution  {f'''(z): 1, g'''(z): 2}\n",
      "\n"
     ]
    }
   ],
   "source": [
    "p, d1, d2, d3 = solver.solve(3)"
   ]
  },
  {
   "cell_type": "code",
   "execution_count": 26,
   "metadata": {
    "ExecuteTime": {
     "end_time": "2020-06-06T12:40:53.488416Z",
     "start_time": "2020-06-06T12:40:53.234533Z"
    },
    "scrolled": true
   },
   "outputs": [
    {
     "data": {
      "image/png": "[encoded data removed]",
      "text/latex": [
       "$\\displaystyle \\left( \\left[\\begin{matrix}0 & 0 & 0\\end{matrix}\\right], \\  \\left[\\begin{matrix}1 & 1 & 1\\end{matrix}\\right], \\  \\left[\\begin{matrix}1 & 1 & 0\\end{matrix}\\right], \\  \\left[\\begin{matrix}1 & 2 & 0\\end{matrix}\\right]\\right)$"
      ],
      "text/plain": [
       "([0  0  0], [1  1  1], [1  1  0], [1  2  0])"
      ]
     },
     "execution_count": 26,
     "metadata": {},
     "output_type": "execute_result"
    }
   ],
   "source": [
    "p, d1, d2, d3"
   ]
  },
  {
   "cell_type": "markdown",
   "metadata": {},
   "source": [
    "# Тригранник Френе"
   ]
  },
  {
   "cell_type": "code",
   "execution_count": 27,
   "metadata": {
    "ExecuteTime": {
     "end_time": "2020-06-06T12:41:11.823898Z",
     "start_time": "2020-06-06T12:41:11.816610Z"
    }
   },
   "outputs": [],
   "source": [
    "import numpy as np\n",
    "from IPython.display import Math"
   ]
  },
  {
   "cell_type": "code",
   "execution_count": 28,
   "metadata": {
    "ExecuteTime": {
     "end_time": "2020-06-06T12:41:12.283906Z",
     "start_time": "2020-06-06T12:41:12.275896Z"
    }
   },
   "outputs": [],
   "source": [
    "eq_builder = utils.EqBuilder(np.array(list(p)).astype('float64'),\n",
    "                             np.array(list(d1)).astype('float64'),\n",
    "                             np.array(list(d2)).astype('float64'),\n",
    "                             np.array(list(d3)).astype('float64'))"
   ]
  },
  {
   "cell_type": "markdown",
   "metadata": {},
   "source": [
    "## Орти"
   ]
  },
  {
   "cell_type": "markdown",
   "metadata": {},
   "source": [
    "### Дотична"
   ]
  },
  {
   "cell_type": "code",
   "execution_count": 29,
   "metadata": {
    "ExecuteTime": {
     "end_time": "2020-06-06T12:41:13.781802Z",
     "start_time": "2020-06-06T12:41:13.769162Z"
    }
   },
   "outputs": [
    {
     "data": {
      "text/plain": [
       "array([0.57735028, 0.57735028, 0.57735028])"
      ]
     },
     "execution_count": 29,
     "metadata": {},
     "output_type": "execute_result"
    }
   ],
   "source": [
    "utils.tangent(eq_builder.d1)"
   ]
  },
  {
   "cell_type": "markdown",
   "metadata": {},
   "source": [
    "### Бінормаль"
   ]
  },
  {
   "cell_type": "code",
   "execution_count": 30,
   "metadata": {
    "ExecuteTime": {
     "end_time": "2020-06-06T12:41:14.668620Z",
     "start_time": "2020-06-06T12:41:14.658093Z"
    }
   },
   "outputs": [
    {
     "data": {
      "text/plain": [
       "array([-0.70710678,  0.70710678,  0.        ])"
      ]
     },
     "execution_count": 30,
     "metadata": {},
     "output_type": "execute_result"
    }
   ],
   "source": [
    "utils.binormal(eq_builder.d1, eq_builder.d2)"
   ]
  },
  {
   "cell_type": "markdown",
   "metadata": {},
   "source": [
    "### Головна нормаль"
   ]
  },
  {
   "cell_type": "code",
   "execution_count": 31,
   "metadata": {
    "ExecuteTime": {
     "end_time": "2020-06-06T12:41:15.391630Z",
     "start_time": "2020-06-06T12:41:15.381521Z"
    }
   },
   "outputs": [
    {
     "data": {
      "text/plain": [
       "array([ 0.4082483,  0.4082483, -0.8164966])"
      ]
     },
     "execution_count": 31,
     "metadata": {},
     "output_type": "execute_result"
    }
   ],
   "source": [
    "utils.normal(eq_builder.d1, eq_builder.d2)"
   ]
  },
  {
   "cell_type": "markdown",
   "metadata": {},
   "source": [
    "## Рівнняння ребер тригранника Френе"
   ]
  },
  {
   "cell_type": "markdown",
   "metadata": {},
   "source": [
    "### Дотична"
   ]
  },
  {
   "cell_type": "code",
   "execution_count": 32,
   "metadata": {
    "ExecuteTime": {
     "end_time": "2020-06-06T12:41:23.323183Z",
     "start_time": "2020-06-06T12:41:23.312905Z"
    }
   },
   "outputs": [
    {
     "data": {
      "text/latex": [
       "$\\displaystyle \\frac{x + 0.0 }{0.577}=\\frac{y + 0.0 }{0.577}=\\frac{y + 0.0 }{0.577}$"
      ],
      "text/plain": [
       "<IPython.core.display.Math object>"
      ]
     },
     "execution_count": 32,
     "metadata": {},
     "output_type": "execute_result"
    }
   ],
   "source": [
    "Math(eq_builder.tangent_eq())"
   ]
  },
  {
   "cell_type": "markdown",
   "metadata": {},
   "source": [
    "### Бінормаль"
   ]
  },
  {
   "cell_type": "code",
   "execution_count": 33,
   "metadata": {
    "ExecuteTime": {
     "end_time": "2020-06-06T12:41:23.839369Z",
     "start_time": "2020-06-06T12:41:23.827695Z"
    }
   },
   "outputs": [
    {
     "data": {
      "text/latex": [
       "$\\displaystyle \\frac{x + 0.0 }{-0.70}=\\frac{y + 0.0 }{0.707}=\\frac{y + 0.0 }{0.0}$"
      ],
      "text/plain": [
       "<IPython.core.display.Math object>"
      ]
     },
     "execution_count": 33,
     "metadata": {},
     "output_type": "execute_result"
    }
   ],
   "source": [
    "Math(eq_builder.binormal_eq())"
   ]
  },
  {
   "cell_type": "markdown",
   "metadata": {},
   "source": [
    "### Головна нормаль"
   ]
  },
  {
   "cell_type": "code",
   "execution_count": 34,
   "metadata": {
    "ExecuteTime": {
     "end_time": "2020-06-06T12:41:24.651212Z",
     "start_time": "2020-06-06T12:41:24.643773Z"
    }
   },
   "outputs": [
    {
     "data": {
      "text/latex": [
       "$\\displaystyle \\frac{x + 0.0 }{0.408}=\\frac{y + 0.0 }{0.408}=\\frac{y + 0.0 }{-0.81}$"
      ],
      "text/plain": [
       "<IPython.core.display.Math object>"
      ]
     },
     "execution_count": 34,
     "metadata": {},
     "output_type": "execute_result"
    }
   ],
   "source": [
    "Math(eq_builder.normal_eq())"
   ]
  },
  {
   "cell_type": "markdown",
   "metadata": {},
   "source": [
    "## Рівняння граней тригранника Френе"
   ]
  },
  {
   "cell_type": "markdown",
   "metadata": {},
   "source": [
    "### Нормальна площина"
   ]
  },
  {
   "cell_type": "code",
   "execution_count": 35,
   "metadata": {
    "ExecuteTime": {
     "end_time": "2020-06-06T12:41:25.655932Z",
     "start_time": "2020-06-06T12:41:25.597835Z"
    }
   },
   "outputs": [
    {
     "name": "stdout",
     "output_type": "stream",
     "text": [
      "0.577*x + 0.577*y + 0.577*z = 0\n"
     ]
    }
   ],
   "source": [
    "print(eq_builder.normal_plane())"
   ]
  },
  {
   "cell_type": "markdown",
   "metadata": {},
   "source": [
    "### Стична площина"
   ]
  },
  {
   "cell_type": "code",
   "execution_count": 36,
   "metadata": {
    "ExecuteTime": {
     "end_time": "2020-06-06T12:41:26.287525Z",
     "start_time": "2020-06-06T12:41:26.224457Z"
    }
   },
   "outputs": [
    {
     "name": "stdout",
     "output_type": "stream",
     "text": [
      "-0.707*x + 0.707*y = 0\n"
     ]
    }
   ],
   "source": [
    "print(eq_builder.osculating_plane())"
   ]
  },
  {
   "cell_type": "markdown",
   "metadata": {},
   "source": [
    "### Спрямна площина"
   ]
  },
  {
   "cell_type": "code",
   "execution_count": 37,
   "metadata": {
    "ExecuteTime": {
     "end_time": "2020-06-06T12:41:27.377107Z",
     "start_time": "2020-06-06T12:41:27.321592Z"
    }
   },
   "outputs": [
    {
     "name": "stdout",
     "output_type": "stream",
     "text": [
      "0.408*x + 0.408*y - 0.817*z = 0\n"
     ]
    }
   ],
   "source": [
    "print(eq_builder.rectifying_plane())"
   ]
  },
  {
   "cell_type": "markdown",
   "metadata": {},
   "source": [
    "# Кривина і скрут"
   ]
  },
  {
   "cell_type": "code",
   "execution_count": 38,
   "metadata": {
    "ExecuteTime": {
     "end_time": "2020-06-06T12:41:29.207503Z",
     "start_time": "2020-06-06T12:41:28.965883Z"
    }
   },
   "outputs": [
    {
     "data": {
      "image/png": "[encoded data removed]",
      "text/latex": [
       "$\\displaystyle 0.27216552697590873$"
      ],
      "text/plain": [
       "0.27216552697590873"
      ]
     },
     "execution_count": 38,
     "metadata": {},
     "output_type": "execute_result"
    }
   ],
   "source": [
    "utils.curvature(eq_builder.d1, eq_builder.d2)"
   ]
  },
  {
   "cell_type": "code",
   "execution_count": 39,
   "metadata": {
    "ExecuteTime": {
     "end_time": "2020-06-06T12:41:37.845944Z",
     "start_time": "2020-06-06T12:41:37.570264Z"
    }
   },
   "outputs": [
    {
     "data": {
      "image/png": "[encoded data removed]",
      "text/latex": [
       "$\\displaystyle 0.4999999999999999$"
      ],
      "text/plain": [
       "0.4999999999999999"
      ]
     },
     "execution_count": 39,
     "metadata": {},
     "output_type": "execute_result"
    }
   ],
   "source": [
    "utils.torsion(eq_builder.d1, eq_builder.d2, eq_builder.d3)"
   ]
  },
  {
   "cell_type": "markdown",
   "metadata": {},
   "source": [
    "# Стичне коло"
   ]
  },
  {
   "cell_type": "markdown",
   "metadata": {},
   "source": [
    "### Центр"
   ]
  },
  {
   "cell_type": "code",
   "execution_count": 20,
   "metadata": {
    "ExecuteTime": {
     "end_time": "2020-06-06T11:55:17.179986Z",
     "start_time": "2020-06-06T11:55:17.175861Z"
    }
   },
   "outputs": [],
   "source": [
    "center, radius = utils.osculating_circle(eq_builder.p,\n",
    "                                         eq_builder.d1,\n",
    "                                         eq_builder.d2)"
   ]
  },
  {
   "cell_type": "code",
   "execution_count": 21,
   "metadata": {
    "ExecuteTime": {
     "end_time": "2020-06-06T11:55:17.466882Z",
     "start_time": "2020-06-06T11:55:17.181692Z"
    }
   },
   "outputs": [
    {
     "data": {
      "text/plain": [
       "array([ 2.00000002e+00, -1.71142716e-08, -1.00000003e+00])"
      ]
     },
     "execution_count": 21,
     "metadata": {},
     "output_type": "execute_result"
    }
   ],
   "source": [
    "center"
   ]
  },
  {
   "cell_type": "markdown",
   "metadata": {},
   "source": [
    "### Радіус"
   ]
  },
  {
   "cell_type": "code",
   "execution_count": 22,
   "metadata": {
    "ExecuteTime": {
     "end_time": "2020-06-06T11:55:18.012627Z",
     "start_time": "2020-06-06T11:55:17.469444Z"
    }
   },
   "outputs": [
    {
     "data": {
      "image/png": "[encoded data removed]",
      "text/latex": [
       "$\\displaystyle 2.4494897427831788$"
      ],
      "text/plain": [
       "2.4494897427831788"
      ]
     },
     "execution_count": 22,
     "metadata": {},
     "output_type": "execute_result"
    }
   ],
   "source": [
    "radius"
   ]
  },
  {
   "cell_type": "code",
   "execution_count": 23,
   "metadata": {
    "ExecuteTime": {
     "end_time": "2020-06-06T11:55:18.060585Z",
     "start_time": "2020-06-06T11:55:18.014436Z"
    }
   },
   "outputs": [
    {
     "name": "stdout",
     "output_type": "stream",
     "text": [
      "(x - 2.000)**2 + (y - -1.71)**2 + (z - -1.00)**2 = 6.0000000000000036\n",
      "-0.577*x + 0.577*y - 0.577*z + 0.577 = 0\n"
     ]
    }
   ],
   "source": [
    "print(eq_builder.osculating_circle())"
   ]
  }
 ],
 "metadata": {
  "kernelspec": {
   "display_name": "Python 3",
   "language": "python",
   "name": "python3"
  },
  "language_info": {
   "codemirror_mode": {
    "name": "ipython",
    "version": 3
   },
   "file_extension": ".py",
   "mimetype": "text/x-python",
   "name": "python",
   "nbconvert_exporter": "python",
   "pygments_lexer": "ipython3",
   "version": "3.7.4"
  }
 },
 "nbformat": 4,
 "nbformat_minor": 4
}
